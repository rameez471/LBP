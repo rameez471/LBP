{
 "cells": [
  {
   "cell_type": "code",
   "execution_count": 9,
   "metadata": {},
   "outputs": [],
   "source": [
    "import cv2,sys,os\n",
    "import numpy as np\n",
    "from Algorithm.lbph import getLBPimage,blockshaped,histogram\n",
    "import matplotlib.pyplot as plt\n",
    "from sklearn.metrics import accuracy_score\n",
    "from sklearn.model_selection import train_test_split\n",
    "from sklearn.decomposition import PCA\n",
    "from sklearn.svm import SVC\n",
    "from skimage import io"
   ]
  },
  {
   "cell_type": "code",
   "execution_count": 10,
   "metadata": {},
   "outputs": [],
   "source": [
    "haar_file = 'haarcascade_frontalface_default.xml'\n",
    "face_cascade = cv2.CascadeClassifier(haar_file)"
   ]
  },
  {
   "cell_type": "code",
   "execution_count": 12,
   "metadata": {},
   "outputs": [],
   "source": [
    "datasets = './Data/Celeb/Train'\n",
    "\n",
    "(height,width) = (70,70)\n",
    "(images,labels,names,id) = ([],[],{},0)\n",
    "\n",
    "for (subdirs,dirs,files) in os.walk(datasets):\n",
    "        for subdir in dirs:\n",
    "            names[id]=subdir\n",
    "            subjectpath=os.path.join(datasets,subdir)\n",
    "            for filename in os.listdir(subjectpath):\n",
    "                path=subjectpath+'/'+filename\n",
    "                lable=id\n",
    "                img = cv2.imread(path)\n",
    "                gray = cv2.cvtColor(img, cv2.COLOR_BGR2GRAY)\n",
    "                faces = face_cascade.detectMultiScale(gray,1.3,4)\n",
    "                for (x,y,w,h) in faces:\n",
    "                    face = gray[y:y+h,x:x+w]\n",
    "#                     print(face.shape)\n",
    "                    face = cv2.resize(face,(width,height))\n",
    "#                     print(face.shape)\n",
    "                    images.append(face)\n",
    "                    labels.append(int(lable))\n",
    "            id+=1\n",
    "        break"
   ]
  },
  {
   "cell_type": "code",
   "execution_count": 13,
   "metadata": {},
   "outputs": [
    {
     "data": {
      "text/plain": [
       "76"
      ]
     },
     "execution_count": 13,
     "metadata": {},
     "output_type": "execute_result"
    }
   ],
   "source": [
    "len(images)"
   ]
  },
  {
   "cell_type": "code",
   "execution_count": 14,
   "metadata": {},
   "outputs": [
    {
     "data": {
      "text/plain": [
       "5"
      ]
     },
     "execution_count": 14,
     "metadata": {},
     "output_type": "execute_result"
    }
   ],
   "source": [
    "id"
   ]
  },
  {
   "cell_type": "code",
   "execution_count": 26,
   "metadata": {},
   "outputs": [],
   "source": [
    "(images,labels) = [np.array(lis) for lis in [images,labels]]"
   ]
  },
  {
   "cell_type": "code",
   "execution_count": 27,
   "metadata": {},
   "outputs": [
    {
     "data": {
      "image/png": "[encoded data removed]",
      "text/plain": [
       "<Figure size 432x288 with 1 Axes>"
      ]
     },
     "metadata": {
      "needs_background": "light"
     },
     "output_type": "display_data"
    }
   ],
   "source": [
    "sample = X_train[0]\n",
    "plt.imshow(sample,cmap='gray')\n",
    "plt.axis('off')\n",
    "plt.show()"
   ]
  },
  {
   "cell_type": "code",
   "execution_count": 28,
   "metadata": {},
   "outputs": [
    {
     "data": {
      "image/png": "[encoded data removed]",
      "text/plain": [
       "<Figure size 432x288 with 1 Axes>"
      ]
     },
     "metadata": {
      "needs_background": "light"
     },
     "output_type": "display_data"
    }
   ],
   "source": [
    "lbp_image = getLBPimage(sample)\n",
    "plt.imshow(lbp_image,cmap='gray')\n",
    "plt.axis('off')\n",
    "plt.show()"
   ]
  },
  {
   "cell_type": "code",
   "execution_count": 29,
   "metadata": {},
   "outputs": [
    {
     "data": {
      "image/png": "[encoded data removed]",
      "text/plain": [
       "<Figure size 432x288 with 1 Axes>"
      ]
     },
     "metadata": {},
     "output_type": "display_data"
    }
   ],
   "source": [
    "shaped = blockshaped(lbp_image,10,10)\n",
    "    \n",
    "xBlocks = []\n",
    "for s in shaped:\n",
    "    xBlocks.append(histogram(s))\n",
    "lbph = np.concatenate(xBlocks)\n",
    "\n",
    "plt.hist(lbph,bins=2**8)\n",
    "plt.xticks([])\n",
    "plt.yticks([])\n",
    "plt.show()"
   ]
  },
  {
   "cell_type": "code",
   "execution_count": 32,
   "metadata": {},
   "outputs": [],
   "source": [
    "x = []\n",
    "\n",
    "for img in images:\n",
    "    lbp = getLBPimage(img)\n",
    "    shaped = blockshaped(lbp,10,10)\n",
    "    \n",
    "    xBlocks = []\n",
    "    for s in shaped:\n",
    "        xBlocks.append(histogram(s))\n",
    "    lbph = np.concatenate(xBlocks)\n",
    "    \n",
    "    x.append(lbph)"
   ]
  },
  {
   "cell_type": "code",
   "execution_count": 33,
   "metadata": {},
   "outputs": [],
   "source": [
    "X_train,y_train = x,labels"
   ]
  },
  {
   "cell_type": "code",
   "execution_count": 35,
   "metadata": {},
   "outputs": [],
   "source": [
    "datasets = './Data/Celeb/val'\n",
    "\n",
    "(height,width) = (70,70)\n",
    "(images,labels,names,id) = ([],[],{},0)\n",
    "\n",
    "for (subdirs,dirs,files) in os.walk(datasets):\n",
    "        for subdir in dirs:\n",
    "            names[id]=subdir\n",
    "            subjectpath=os.path.join(datasets,subdir)\n",
    "            for filename in os.listdir(subjectpath):\n",
    "                path=subjectpath+'/'+filename\n",
    "                lable=id\n",
    "                img = cv2.imread(path)\n",
    "                gray = cv2.cvtColor(img, cv2.COLOR_BGR2GRAY)\n",
    "                faces = face_cascade.detectMultiScale(gray,1.3,4)\n",
    "                for (x,y,w,h) in faces:\n",
    "                    face = gray[y:y+h,x:x+w]\n",
    "#                     print(face.shape)\n",
    "                    face = cv2.resize(face,(width,height))\n",
    "#                     print(face.shape)\n",
    "                    images.append(face)\n",
    "                    labels.append(int(lable))\n",
    "            id+=1\n",
    "        break\n",
    "        \n",
    "x = []\n",
    "\n",
    "for img in images:\n",
    "    lbp = getLBPimage(img)\n",
    "    shaped = blockshaped(lbp,10,10)\n",
    "    \n",
    "    xBlocks = []\n",
    "    for s in shaped:\n",
    "        xBlocks.append(histogram(s))\n",
    "    lbph = np.concatenate(xBlocks)\n",
    "    \n",
    "    x.append(lbph)\n",
    "    \n",
    "X_test,y_test = x,labels"
   ]
  },
  {
   "cell_type": "code",
   "execution_count": 36,
   "metadata": {},
   "outputs": [
    {
     "data": {
      "text/plain": [
       "PCA(copy=True, iterated_power='auto', n_components=16, random_state=None,\n",
       "    svd_solver='auto', tol=0.0, whiten=True)"
      ]
     },
     "execution_count": 36,
     "metadata": {},
     "output_type": "execute_result"
    }
   ],
   "source": [
    "from sklearn.decomposition import PCA\n",
    "pca = PCA(n_components=16, whiten=True)\n",
    "pca.fit(X_train)"
   ]
  },
  {
   "cell_type": "code",
   "execution_count": 37,
   "metadata": {},
   "outputs": [],
   "source": [
    "X_train_pca = pca.transform(X_train)\n",
    "X_test_pca = pca.transform(X_test)"
   ]
  },
  {
   "cell_type": "code",
   "execution_count": 39,
   "metadata": {},
   "outputs": [
    {
     "name": "stderr",
     "output_type": "stream",
     "text": [
      "c:\\users\\asus\\appdata\\local\\programs\\python\\python37\\lib\\site-packages\\sklearn\\svm\\base.py:193: FutureWarning: The default value of gamma will change from 'auto' to 'scale' in version 0.22 to account better for unscaled features. Set gamma explicitly to 'auto' or 'scale' to avoid this warning.\n",
      "  \"avoid this warning.\", FutureWarning)\n"
     ]
    },
    {
     "data": {
      "text/plain": [
       "SVC(C=1.0, cache_size=200, class_weight=None, coef0=0.0,\n",
       "    decision_function_shape='ovr', degree=3, gamma='auto_deprecated',\n",
       "    kernel='rbf', max_iter=-1, probability=True, random_state=None,\n",
       "    shrinking=True, tol=0.001, verbose=False)"
      ]
     },
     "execution_count": 39,
     "metadata": {},
     "output_type": "execute_result"
    }
   ],
   "source": [
    "model = SVC(probability=True)\n",
    "model.fit(X_train_pca,y_train)"
   ]
  },
  {
   "cell_type": "code",
   "execution_count": 40,
   "metadata": {},
   "outputs": [
    {
     "name": "stdout",
     "output_type": "stream",
     "text": [
      "Test Accuracy: 0.72\n"
     ]
    }
   ],
   "source": [
    "y_pred = model.predict(X_test_pca)\n",
    "print('Test Accuracy:',accuracy_score(y_pred,y_test))"
   ]
  },
  {
   "cell_type": "code",
   "execution_count": 54,
   "metadata": {},
   "outputs": [
    {
     "data": {
      "image/png": "[encoded data removed]",
      "text/plain": [
       "<Figure size 432x288 with 1 Axes>"
      ]
     },
     "metadata": {
      "needs_background": "light"
     },
     "output_type": "display_data"
    }
   ],
   "source": [
    "sample_image = X_test[0]\n",
    "\n",
    "sample = np.expand_dims(X_test_pca[0],axis=0)\n",
    "pred = model.predict(sample)\n",
    "\n",
    "plt.imshow(images[0],cmap='gray')\n",
    "plt.axis('off')\n",
    "name = names[pred[0]]\n",
    "plt.title(name)\n",
    "plt.show()"
   ]
  },
  {
   "cell_type": "code",
   "execution_count": 68,
   "metadata": {},
   "outputs": [
    {
     "data": {
      "text/plain": [
       "0.07573523174130195"
      ]
     },
     "execution_count": 68,
     "metadata": {},
     "output_type": "execute_result"
    }
   ],
   "source": [
    "np.linalg.norm(X_test[0]-X_train[0])"
   ]
  },
  {
   "cell_type": "code",
   "execution_count": 77,
   "metadata": {},
   "outputs": [
    {
     "data": {
      "text/plain": [
       "0.0011031890686396353"
      ]
     },
     "execution_count": 77,
     "metadata": {},
     "output_type": "execute_result"
    }
   ],
   "source": [
    "abs(np.sum(X_test[0]-X_train[0]))"
   ]
  },
  {
   "cell_type": "code",
   "execution_count": 78,
   "metadata": {},
   "outputs": [
    {
     "data": {
      "text/plain": [
       "0.003555348714563541"
      ]
     },
     "execution_count": 78,
     "metadata": {},
     "output_type": "execute_result"
    }
   ],
   "source": [
    "abs(np.sum(X_test[0]-X_train[60]))"
   ]
  },
  {
   "cell_type": "code",
   "execution_count": null,
   "metadata": {},
   "outputs": [],
   "source": []
  }
 ],
 "metadata": {
  "kernelspec": {
   "display_name": "Python 3",
   "language": "python",
   "name": "python3"
  },
  "language_info": {
   "codemirror_mode": {
    "name": "ipython",
    "version": 3
   },
   "file_extension": ".py",
   "mimetype": "text/x-python",
   "name": "python",
   "nbconvert_exporter": "python",
   "pygments_lexer": "ipython3",
   "version": "3.7.4"
  }
 },
 "nbformat": 4,
 "nbformat_minor": 2
}
